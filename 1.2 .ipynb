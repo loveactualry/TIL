{
 "cells": [
  {
   "cell_type": "markdown",
   "metadata": {},
   "source": [
    "### 1.2 수열과 집합의 합과 곱\n",
    "\n",
    "- 수열은 N개의 숫자 또는 변수가 순서대로 나열된 것.\n",
    "- 집합 : 순서가 중요하지 않은 숫자들은 집합으로 표시\n",
    "- 집합에서도 원소가 많으면 가운데를 생략할 수 있다.\n",
    "- 데이터 분석에서는 1부터 N까지의 수열 또는 집합이 자주 나온다. 간단한 기호를 사용하는 경우도 많다.\n",
    "- 집합에 알파멧 대문자로 이름을 붙일 수 있다. \n",
    "- 두개의 숫자면 RXR R^2 등등\n",
    "\n",
    "#### 수열의 합과 곱\n",
    "- 썸, 프로덕트 기호를 사용\n",
    "- 반복 사용 시, 합과 곱 기호를 사용하면 편리\n",
    "- 합합,곱곱, 합곱 중첩 등이 있음\n",
    "\n",
    "- 성질 \n",
    "    - 인덱스 문자가 바뀌어도 실제 수식은 달라지지 않는다.\n",
    "    - 상수 c를 곱한 후에 합을 한 결과는 먼저 합을 구하고 상수를 곱한 것과 같다.\n",
    "    - 더해야 하는 값들이 여러 항의 합으로 되어 있으면 각각의 합을 먼저 구한 후에 더해도 된다.\n",
    "    - 합이나 곱을 중첩하는 경우에는 중첩의 순서를 바꾸어도 결과가 같다. \n",
    "\n",
    "#### 집합의 합과 곱\n",
    "    - 집합의 합과 곱을 구하는 경우에는 인덱스 대신 집합 기호를 사용\n",
    "    - "
   ]
  },
  {
   "cell_type": "code",
   "execution_count": null,
   "metadata": {},
   "outputs": [],
   "source": []
  }
 ],
 "metadata": {
  "kernelspec": {
   "display_name": "Python 3",
   "language": "python",
   "name": "python3"
  },
  "language_info": {
   "codemirror_mode": {
    "name": "ipython",
    "version": 3
   },
   "file_extension": ".py",
   "mimetype": "text/x-python",
   "name": "python",
   "nbconvert_exporter": "python",
   "pygments_lexer": "ipython3",
   "version": "3.7.4"
  }
 },
 "nbformat": 4,
 "nbformat_minor": 2
}
