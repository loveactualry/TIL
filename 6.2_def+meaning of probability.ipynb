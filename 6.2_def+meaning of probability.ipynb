{
 "cells": [
  {
   "cell_type": "markdown",
   "metadata": {},
   "source": [
    "### 6.2 확률의 수학적 정의와 의미\n",
    "\n",
    "- 확률을 다룰 때는 현실에서 해결하고 하는 문제와 결부하여 정의한다.\n",
    "    - 동전, 플레잉카드, 동전 두번, 약속 날짜 31일, 어떤 과일, 삼성전자 주식 가격 몇 % 변동, 회전 원판 각도 몇도?, 체온 측정 몇도?\n",
    "    - 이러한 문제가 어떤 답을 가질 수 있고, 그 답의 신뢰성이 얼마나 되는지 정량적인 방법 계산\n",
    "    - 수학적 정의를 살펴본다."
   ]
  },
  {
   "cell_type": "markdown",
   "metadata": {},
   "source": [
    "- 확률표본\n",
    "- 표본공간\n",
    "- 사건"
   ]
  },
  {
   "cell_type": "markdown",
   "metadata": {},
   "source": [
    "- 표본공간과 확률표본\n",
    "    - 확률표본 혹은 표본 : 확률적 문제에서 발생할 수 있는 '하나의' 현상, 혹은 선택될 수 있는 '하나의'경우\n",
    "    - 표본공간 : 가능한 모든 표본의 집합. 어떤 표본이 가능하고 어떤 표본이 가능하지 않은가를 정의하는 작업\n",
    "    - \"앞면\", \"뒷면\" 으로 구분."
   ]
  },
  {
   "cell_type": "markdown",
   "metadata": {},
   "source": [
    "- 사건\n",
    "    - 사건 : 표본공간의 부분집합, 표본공간은 부분집합의 집합\n",
    "    - 경우 : 사건에 해당한다.\n",
    "    "
   ]
  },
  {
   "cell_type": "code",
   "execution_count": 1,
   "metadata": {},
   "outputs": [
    {
     "data": {
      "text/plain": [
       "{frozenset(), frozenset({'H'}), frozenset({'M'}), frozenset({'H', 'T'})}"
      ]
     },
     "execution_count": 1,
     "metadata": {},
     "output_type": "execute_result"
    }
   ],
   "source": [
    "A = frozenset([])\n",
    "B = frozenset(['H'])\n",
    "C = frozenset(['M'])\n",
    "D = frozenset(['H', 'T'])\n",
    "set([A, B, C, D])"
   ]
  },
  {
   "cell_type": "code",
   "execution_count": 3,
   "metadata": {},
   "outputs": [
    {
     "data": {
      "text/plain": [
       "frozenset({'H'})"
      ]
     },
     "execution_count": 3,
     "metadata": {},
     "output_type": "execute_result"
    }
   ],
   "source": [
    "B"
   ]
  },
  {
   "cell_type": "code",
   "execution_count": 4,
   "metadata": {},
   "outputs": [],
   "source": [
    "from itertools import chain, combinations\n",
    "def get_set_of_subsets(omega):\n",
    "    return set([frozenset(s) for s in chain.from_iterable(combinations(omega, r) for r in range(len(omega) + 1))])"
   ]
  },
  {
   "cell_type": "code",
   "execution_count": 5,
   "metadata": {},
   "outputs": [
    {
     "data": {
      "text/plain": [
       "{frozenset(),\n",
       " frozenset({'♠', '♣'}),\n",
       " frozenset({'♥'}),\n",
       " frozenset({'♦'}),\n",
       " frozenset({'♣', '♥'}),\n",
       " frozenset({'♥', '♦'}),\n",
       " frozenset({'♣'}),\n",
       " frozenset({'♣', '♥', '♦'}),\n",
       " frozenset({'♠'}),\n",
       " frozenset({'♠', '♣', '♦'}),\n",
       " frozenset({'♠', '♥', '♦'}),\n",
       " frozenset({'♣', '♦'}),\n",
       " frozenset({'♠', '♥'}),\n",
       " frozenset({'♠', '♣', '♥'}),\n",
       " frozenset({'♠', '♦'}),\n",
       " frozenset({'♠', '♣', '♥', '♦'})}"
      ]
     },
     "execution_count": 5,
     "metadata": {},
     "output_type": "execute_result"
    }
   ],
   "source": [
    "omega = {\"♦\", \"♥\", \"♠\", \"♣\"}\n",
    "SS1 = get_set_of_subsets(omega)\n",
    "SS1"
   ]
  },
  {
   "cell_type": "markdown",
   "metadata": {},
   "source": [
    "- 확률\n",
    "    - 확률이란 사건을 입력하면 숫자가 출력되는 함수\n",
    "    - 사건(부분집합) -> 숫자(확률값)\n",
    "    - 정의역(domain)은 표본공간의 모든 사건(부분집합)의 집합\n",
    "    - 모든 각각의 사건(부분집합)에 어떤 숫자를 할당(assign, allocate)하는 함수가 확률이다.\n",
    "    \n",
    "    - 콜모고로프의 공리\n",
    "        - 모든 사건에 대해 확률은 실수이고 0 또는 양수이다.\n",
    "        - 표본공간(전체집합)이라는 사건(부분집합)에 대한 확률은 1이다.\n",
    "        - 공통 원소가 없는 두 사건의 합집합의 확률은 사건별 확률의 합이다.\n",
    "\n",
    "    "
   ]
  },
  {
   "cell_type": "markdown",
   "metadata": {},
   "source": [
    "- 확률은 표본이 아닌 사건을 입력으로 가지는 함수\n",
    "    - 표본이 아닌 사건에 대해 정의한다."
   ]
  },
  {
   "cell_type": "markdown",
   "metadata": {},
   "source": [
    "- 파이썬을 이용한 확률의 구현\n",
    "    - 사건을 키(Key)로 가지고 숫자를 값(value)으로 가지는 딕셔너리를 사용하여 확률 함수를 구현할 수 있다."
   ]
  },
  {
   "cell_type": "code",
   "execution_count": 6,
   "metadata": {},
   "outputs": [
    {
     "data": {
      "text/plain": [
       "{frozenset(): 0,\n",
       " frozenset({'H'}): 0.4,\n",
       " frozenset({'M'}): 0.6,\n",
       " frozenset({'H', 'T'}): 1}"
      ]
     },
     "execution_count": 6,
     "metadata": {},
     "output_type": "execute_result"
    }
   ],
   "source": [
    "P = {A: 0, B: 0.4, C: 0.6, D: 1}\n",
    "P"
   ]
  },
  {
   "cell_type": "code",
   "execution_count": null,
   "metadata": {},
   "outputs": [],
   "source": []
  },
  {
   "cell_type": "code",
   "execution_count": null,
   "metadata": {},
   "outputs": [],
   "source": []
  },
  {
   "cell_type": "code",
   "execution_count": null,
   "metadata": {},
   "outputs": [],
   "source": []
  },
  {
   "cell_type": "code",
   "execution_count": null,
   "metadata": {},
   "outputs": [],
   "source": []
  },
  {
   "cell_type": "code",
   "execution_count": null,
   "metadata": {},
   "outputs": [],
   "source": []
  },
  {
   "cell_type": "code",
   "execution_count": null,
   "metadata": {},
   "outputs": [],
   "source": []
  },
  {
   "cell_type": "markdown",
   "metadata": {},
   "source": [
    "콜모고로프의 공리 지키고 있는지 확인하기."
   ]
  },
  {
   "cell_type": "code",
   "execution_count": 7,
   "metadata": {},
   "outputs": [
    {
     "ename": "NameError",
     "evalue": "name 'A_1' is not defined",
     "output_type": "error",
     "traceback": [
      "\u001b[1;31m---------------------------------------------------------------------------\u001b[0m",
      "\u001b[1;31mNameError\u001b[0m                                 Traceback (most recent call last)",
      "\u001b[1;32m<ipython-input-7-f3350cc805ec>\u001b[0m in \u001b[0;36m<module>\u001b[1;34m\u001b[0m\n\u001b[0;32m      1\u001b[0m P1 = {\n\u001b[1;32m----> 2\u001b[1;33m \u001b[0mA_1\u001b[0m\u001b[1;33m:\u001b[0m \u001b[1;36m0\u001b[0m\u001b[1;33m,\u001b[0m \u001b[0mA_2\u001b[0m\u001b[1;33m:\u001b[0m \u001b[1;36m0.25\u001b[0m\u001b[1;33m,\u001b[0m \u001b[0mA_3\u001b[0m\u001b[1;33m:\u001b[0m \u001b[1;36m0.25\u001b[0m\u001b[1;33m,\u001b[0m\u001b[1;33m\u001b[0m\u001b[1;33m\u001b[0m\u001b[0m\n\u001b[0m\u001b[0;32m      3\u001b[0m \u001b[0mA_4\u001b[0m\u001b[1;33m:\u001b[0m \u001b[1;36m0.25\u001b[0m\u001b[1;33m,\u001b[0m \u001b[0mA_5\u001b[0m\u001b[1;33m:\u001b[0m \u001b[1;36m0.25\u001b[0m\u001b[1;33m,\u001b[0m \u001b[0mA_6\u001b[0m\u001b[1;33m:\u001b[0m \u001b[1;36m0.5\u001b[0m\u001b[1;33m,\u001b[0m\u001b[1;33m\u001b[0m\u001b[1;33m\u001b[0m\u001b[0m\n\u001b[0;32m      4\u001b[0m \u001b[0mA_7\u001b[0m\u001b[1;33m:\u001b[0m \u001b[1;36m0.5\u001b[0m\u001b[1;33m,\u001b[0m \u001b[0mA_8\u001b[0m\u001b[1;33m:\u001b[0m \u001b[1;36m0.5\u001b[0m\u001b[1;33m,\u001b[0m \u001b[0mA_9\u001b[0m\u001b[1;33m:\u001b[0m \u001b[1;36m0.5\u001b[0m\u001b[1;33m,\u001b[0m\u001b[1;33m\u001b[0m\u001b[1;33m\u001b[0m\u001b[0m\n\u001b[0;32m      5\u001b[0m \u001b[0mA_10\u001b[0m\u001b[1;33m:\u001b[0m \u001b[1;36m0.5\u001b[0m\u001b[1;33m,\u001b[0m \u001b[0mA_11\u001b[0m\u001b[1;33m:\u001b[0m \u001b[1;36m0.5\u001b[0m\u001b[1;33m,\u001b[0m\u001b[1;33m\u001b[0m\u001b[1;33m\u001b[0m\u001b[0m\n",
      "\u001b[1;31mNameError\u001b[0m: name 'A_1' is not defined"
     ]
    }
   ],
   "source": [
    "P1 = {\n",
    "A_1: 0, A_2: 0.25, A_3: 0.25,\n",
    "A_4: 0.25, A_5: 0.25, A_6: 0.5,\n",
    "A_7: 0.5, A_8: 0.5, A_9: 0.5,\n",
    "A_10: 0.5, A_11: 0.5,\n",
    "A_12: 0.75, A_13: 0.75,\n",
    "A_14: 0.75, A_15: 0.75, A_16: 1}"
   ]
  },
  {
   "cell_type": "code",
   "execution_count": 8,
   "metadata": {},
   "outputs": [
    {
     "ename": "NameError",
     "evalue": "name 'B_1' is not defined",
     "output_type": "error",
     "traceback": [
      "\u001b[1;31m---------------------------------------------------------------------------\u001b[0m",
      "\u001b[1;31mNameError\u001b[0m                                 Traceback (most recent call last)",
      "\u001b[1;32m<ipython-input-8-5a267cbfc5c4>\u001b[0m in \u001b[0;36m<module>\u001b[1;34m\u001b[0m\n\u001b[0;32m      1\u001b[0m P2 = {\n\u001b[1;32m----> 2\u001b[1;33m \u001b[0mB_1\u001b[0m\u001b[1;33m:\u001b[0m \u001b[1;36m0\u001b[0m\u001b[1;33m,\u001b[0m \u001b[0mB_2\u001b[0m\u001b[1;33m:\u001b[0m \u001b[1;36m1\u001b[0m\u001b[1;33m/\u001b[0m\u001b[1;36m4\u001b[0m\u001b[1;33m,\u001b[0m \u001b[0mB_3\u001b[0m\u001b[1;33m:\u001b[0m \u001b[1;36m1\u001b[0m\u001b[1;33m/\u001b[0m\u001b[1;36m4\u001b[0m\u001b[1;33m,\u001b[0m\u001b[1;33m\u001b[0m\u001b[1;33m\u001b[0m\u001b[0m\n\u001b[0m\u001b[0;32m      3\u001b[0m \u001b[0mB_4\u001b[0m\u001b[1;33m:\u001b[0m \u001b[1;36m1\u001b[0m\u001b[1;33m/\u001b[0m\u001b[1;36m4\u001b[0m\u001b[1;33m,\u001b[0m \u001b[0mB_5\u001b[0m\u001b[1;33m:\u001b[0m \u001b[1;36m1\u001b[0m\u001b[1;33m/\u001b[0m\u001b[1;36m4\u001b[0m\u001b[1;33m,\u001b[0m \u001b[0mB_6\u001b[0m\u001b[1;33m:\u001b[0m \u001b[1;36m2\u001b[0m\u001b[1;33m/\u001b[0m\u001b[1;36m4\u001b[0m\u001b[1;33m,\u001b[0m\u001b[1;33m\u001b[0m\u001b[1;33m\u001b[0m\u001b[0m\n\u001b[0;32m      4\u001b[0m \u001b[0mB_7\u001b[0m\u001b[1;33m:\u001b[0m \u001b[1;36m2\u001b[0m\u001b[1;33m/\u001b[0m\u001b[1;36m4\u001b[0m\u001b[1;33m,\u001b[0m \u001b[0mB_8\u001b[0m\u001b[1;33m:\u001b[0m \u001b[1;36m2\u001b[0m\u001b[1;33m/\u001b[0m\u001b[1;36m4\u001b[0m\u001b[1;33m,\u001b[0m \u001b[0mB_9\u001b[0m\u001b[1;33m:\u001b[0m \u001b[1;36m2\u001b[0m\u001b[1;33m/\u001b[0m\u001b[1;36m4\u001b[0m\u001b[1;33m,\u001b[0m\u001b[1;33m\u001b[0m\u001b[1;33m\u001b[0m\u001b[0m\n\u001b[0;32m      5\u001b[0m \u001b[0mB_10\u001b[0m\u001b[1;33m:\u001b[0m \u001b[1;36m2\u001b[0m\u001b[1;33m/\u001b[0m\u001b[1;36m4\u001b[0m\u001b[1;33m,\u001b[0m \u001b[0mB_11\u001b[0m\u001b[1;33m:\u001b[0m \u001b[1;36m2\u001b[0m\u001b[1;33m/\u001b[0m\u001b[1;36m4\u001b[0m\u001b[1;33m,\u001b[0m \u001b[0mB_12\u001b[0m\u001b[1;33m:\u001b[0m \u001b[1;36m3\u001b[0m\u001b[1;33m/\u001b[0m\u001b[1;36m4\u001b[0m\u001b[1;33m,\u001b[0m \u001b[0mB_13\u001b[0m\u001b[1;33m:\u001b[0m \u001b[1;36m3\u001b[0m\u001b[1;33m/\u001b[0m\u001b[1;36m4\u001b[0m\u001b[1;33m,\u001b[0m\u001b[1;33m\u001b[0m\u001b[1;33m\u001b[0m\u001b[0m\n",
      "\u001b[1;31mNameError\u001b[0m: name 'B_1' is not defined"
     ]
    }
   ],
   "source": [
    "P2 = {\n",
    "B_1: 0, B_2: 1/4, B_3: 1/4,\n",
    "B_4: 1/4, B_5: 1/4, B_6: 2/4,\n",
    "B_7: 2/4, B_8: 2/4, B_9: 2/4,\n",
    "B_10: 2/4, B_11: 2/4, B_12: 3/4, B_13: 3/4,\n",
    "B_14: 3/4, B_15: 3/4, B_16: 1}\n",
    "P2"
   ]
  },
  {
   "cell_type": "markdown",
   "metadata": {},
   "source": [
    "- 주사위 한 면의 확률은 무조건 1/6?\n",
    "    - "
   ]
  },
  {
   "cell_type": "code",
   "execution_count": 12,
   "metadata": {},
   "outputs": [
    {
     "data": {
      "text/plain": [
       "{frozenset({1, 3, 5}): 0.76,\n",
       " frozenset({1, 4}): 0.63,\n",
       " frozenset({4, 6}): 0.13,\n",
       " frozenset({2, 3}): 0.22999999999999998,\n",
       " frozenset({2, 3, 4}): 0.36,\n",
       " frozenset({1, 4, 5, 6}): 0.77,\n",
       " frozenset({2, 6}): 0.11,\n",
       " frozenset({4, 5}): 0.27,\n",
       " frozenset({2, 3, 5, 6}): 0.37,\n",
       " frozenset({1, 2, 3, 6}): 0.73,\n",
       " frozenset({1}): 0.5,\n",
       " frozenset({1, 2, 3, 4, 5, 6}): 1.0,\n",
       " frozenset({2, 4, 5, 6}): 0.38,\n",
       " frozenset({4, 5, 6}): 0.27,\n",
       " frozenset({1, 3, 4, 6}): 0.75,\n",
       " frozenset({2, 3, 4, 6}): 0.36,\n",
       " frozenset({1, 2, 3, 4, 6}): 0.86,\n",
       " frozenset({1, 3, 4, 5, 6}): 0.89,\n",
       " frozenset({1, 4, 6}): 0.63,\n",
       " frozenset({3, 4}): 0.25,\n",
       " frozenset({2, 4, 6}): 0.24,\n",
       " frozenset({3, 4, 5, 6}): 0.39,\n",
       " frozenset({1, 2, 3, 4, 5}): 1.0,\n",
       " frozenset({2, 4}): 0.24,\n",
       " frozenset({5, 6}): 0.14,\n",
       " frozenset({2, 3, 5}): 0.37,\n",
       " frozenset({3, 4, 6}): 0.25,\n",
       " frozenset({3, 5}): 0.26,\n",
       " frozenset({2, 5, 6}): 0.25,\n",
       " frozenset({3, 4, 5}): 0.39,\n",
       " frozenset({1, 6}): 0.5,\n",
       " frozenset({1, 2, 3}): 0.73,\n",
       " frozenset({1, 2, 4, 6}): 0.74,\n",
       " frozenset({1, 3}): 0.62,\n",
       " frozenset({1, 2, 6}): 0.61,\n",
       " frozenset({1, 3, 4}): 0.75,\n",
       " frozenset({1, 2, 4, 5}): 0.88,\n",
       " frozenset({1, 3, 5, 6}): 0.76,\n",
       " frozenset({1, 2, 3, 5, 6}): 0.87,\n",
       " frozenset({3, 6}): 0.12,\n",
       " frozenset({2, 3, 6}): 0.22999999999999998,\n",
       " frozenset({2, 3, 4, 5}): 0.5,\n",
       " frozenset({1, 2, 5}): 0.75,\n",
       " frozenset({1, 5}): 0.64,\n",
       " frozenset({1, 4, 5}): 0.77,\n",
       " frozenset({1, 2, 3, 4}): 0.86,\n",
       " frozenset({2, 3, 4, 5, 6}): 0.5,\n",
       " frozenset({5}): 0.14,\n",
       " frozenset({4}): 0.13,\n",
       " frozenset({2}): 0.11,\n",
       " frozenset({1, 2, 4, 5, 6}): 0.88,\n",
       " frozenset({1, 2, 4}): 0.74,\n",
       " frozenset({1, 2}): 0.61,\n",
       " frozenset({1, 3, 6}): 0.62,\n",
       " frozenset({1, 2, 5, 6}): 0.75,\n",
       " frozenset({1, 2, 3, 5}): 0.87,\n",
       " frozenset({1, 3, 4, 5}): 0.89,\n",
       " frozenset({2, 4, 5}): 0.38,\n",
       " frozenset({2, 5}): 0.25,\n",
       " frozenset({3, 5, 6}): 0.26,\n",
       " frozenset({3}): 0.12,\n",
       " frozenset({6}): 0.0,\n",
       " frozenset(): 0.0,\n",
       " frozenset({1, 5, 6}): 0.64}"
      ]
     },
     "execution_count": 12,
     "metadata": {},
     "output_type": "execute_result"
    }
   ],
   "source": [
    "omega = {1, 2, 3, 4, 5, 6}\n",
    "SS3 = get_set_of_subsets(omega)\n",
    "P3 = {}\n",
    "for i in SS3:\n",
    "    probability = 0.0\n",
    "    if 1 in i:\n",
    "        probability += 0.5 # P({1}) = 0.5\n",
    "    if 2 in i:\n",
    "        probability += 0.11 # 또는 다른 값\n",
    "    if 3 in i:\n",
    "        probability += 0.12 # 또는 다른 값\n",
    "    if 4 in i:\n",
    "        probability += 0.13 # 또는 다른 값\n",
    "    if 5 in i:\n",
    "        probability += 0.14 # 또는 다른 값\n",
    "    if 6 in i:\n",
    "        probability += 0 # P({6}) = 0\n",
    "    P3[i] = probability\n",
    "P3"
   ]
  },
  {
   "cell_type": "code",
   "execution_count": 15,
   "metadata": {},
   "outputs": [],
   "source": [
    "def f(x):\n",
    "    if x == 1:\n",
    "        return 0.5\n",
    "    if x == 2:\n",
    "        return 0.1\n",
    "    if x == 3:\n",
    "        return 0.2\n",
    "    if x == 4:\n",
    "        return 0.1\n",
    "    if x == 5:\n",
    "        return 0.1\n",
    "    if x == 6:\n",
    "        return 0\n",
    "\n",
    "    "
   ]
  },
  {
   "cell_type": "code",
   "execution_count": 16,
   "metadata": {},
   "outputs": [
    {
     "data": {
      "text/plain": [
       "0.5"
      ]
     },
     "execution_count": 16,
     "metadata": {},
     "output_type": "execute_result"
    }
   ],
   "source": [
    "f(1)"
   ]
  },
  {
   "cell_type": "code",
   "execution_count": 17,
   "metadata": {},
   "outputs": [
    {
     "data": {
      "text/plain": [
       "{'True': 0.019178082191780823, 'False': 0.9808219178082191}"
      ]
     },
     "execution_count": 17,
     "metadata": {},
     "output_type": "execute_result"
    }
   ],
   "source": [
    "P4 = {\"True\": 7/ 365, \"False\":358/365}\n",
    "P4"
   ]
  },
  {
   "cell_type": "code",
   "execution_count": 18,
   "metadata": {},
   "outputs": [
    {
     "data": {
      "text/plain": [
       "{'Oragnge': 0.5, 'Apple': 0.5}"
      ]
     },
     "execution_count": 18,
     "metadata": {},
     "output_type": "execute_result"
    }
   ],
   "source": [
    "P5 = {\"Oragnge\": 0.5, \"Apple\": 0.5}\n",
    "P5"
   ]
  },
  {
   "cell_type": "code",
   "execution_count": 20,
   "metadata": {},
   "outputs": [
    {
     "data": {
      "text/plain": [
       "{'Apple': 0.7, 'Orange': 0.3}"
      ]
     },
     "execution_count": 20,
     "metadata": {},
     "output_type": "execute_result"
    }
   ],
   "source": [
    "P6 = {}\n",
    "P6 = {\"Apple\": 70 / 100, \"Orange\": 30 / 100}\n",
    "P6"
   ]
  },
  {
   "cell_type": "markdown",
   "metadata": {},
   "source": [
    "- 확률의 의미\n",
    "    - 빈도주의적 관점과 베이지안 관점\n",
    "    - 빈도주의 : 반복적으로 선택된 표본이 사건(부분 집합) A의 원소가 될 경향\n",
    "    - 베이지안 : 선택된 표본이 특정한 사건(부분 집합)에 속한다는 가설, 명제 혹은 주장의 신뢰도"
   ]
  },
  {
   "cell_type": "code",
   "execution_count": null,
   "metadata": {},
   "outputs": [],
   "source": []
  },
  {
   "cell_type": "code",
   "execution_count": null,
   "metadata": {},
   "outputs": [],
   "source": []
  },
  {
   "cell_type": "code",
   "execution_count": null,
   "metadata": {},
   "outputs": [],
   "source": []
  },
  {
   "cell_type": "code",
   "execution_count": null,
   "metadata": {},
   "outputs": [],
   "source": []
  },
  {
   "cell_type": "code",
   "execution_count": null,
   "metadata": {},
   "outputs": [],
   "source": []
  },
  {
   "cell_type": "code",
   "execution_count": null,
   "metadata": {},
   "outputs": [],
   "source": []
  },
  {
   "cell_type": "code",
   "execution_count": null,
   "metadata": {},
   "outputs": [],
   "source": []
  },
  {
   "cell_type": "code",
   "execution_count": null,
   "metadata": {},
   "outputs": [],
   "source": []
  },
  {
   "cell_type": "code",
   "execution_count": null,
   "metadata": {},
   "outputs": [],
   "source": []
  },
  {
   "cell_type": "code",
   "execution_count": null,
   "metadata": {},
   "outputs": [],
   "source": []
  },
  {
   "cell_type": "code",
   "execution_count": null,
   "metadata": {},
   "outputs": [],
   "source": []
  },
  {
   "cell_type": "code",
   "execution_count": null,
   "metadata": {},
   "outputs": [],
   "source": []
  },
  {
   "cell_type": "code",
   "execution_count": null,
   "metadata": {},
   "outputs": [],
   "source": []
  },
  {
   "cell_type": "code",
   "execution_count": null,
   "metadata": {},
   "outputs": [],
   "source": []
  },
  {
   "cell_type": "code",
   "execution_count": null,
   "metadata": {},
   "outputs": [],
   "source": []
  },
  {
   "cell_type": "code",
   "execution_count": null,
   "metadata": {},
   "outputs": [],
   "source": []
  },
  {
   "cell_type": "code",
   "execution_count": null,
   "metadata": {},
   "outputs": [],
   "source": []
  },
  {
   "cell_type": "code",
   "execution_count": null,
   "metadata": {},
   "outputs": [],
   "source": []
  },
  {
   "cell_type": "code",
   "execution_count": null,
   "metadata": {},
   "outputs": [],
   "source": []
  },
  {
   "cell_type": "code",
   "execution_count": null,
   "metadata": {},
   "outputs": [],
   "source": []
  },
  {
   "cell_type": "code",
   "execution_count": null,
   "metadata": {},
   "outputs": [],
   "source": []
  },
  {
   "cell_type": "code",
   "execution_count": null,
   "metadata": {},
   "outputs": [],
   "source": []
  },
  {
   "cell_type": "code",
   "execution_count": null,
   "metadata": {},
   "outputs": [],
   "source": []
  },
  {
   "cell_type": "code",
   "execution_count": null,
   "metadata": {},
   "outputs": [],
   "source": []
  },
  {
   "cell_type": "code",
   "execution_count": null,
   "metadata": {},
   "outputs": [],
   "source": []
  },
  {
   "cell_type": "code",
   "execution_count": null,
   "metadata": {},
   "outputs": [],
   "source": []
  },
  {
   "cell_type": "code",
   "execution_count": null,
   "metadata": {},
   "outputs": [],
   "source": []
  },
  {
   "cell_type": "code",
   "execution_count": null,
   "metadata": {},
   "outputs": [],
   "source": []
  },
  {
   "cell_type": "code",
   "execution_count": null,
   "metadata": {},
   "outputs": [],
   "source": []
  },
  {
   "cell_type": "code",
   "execution_count": null,
   "metadata": {},
   "outputs": [],
   "source": []
  },
  {
   "cell_type": "code",
   "execution_count": null,
   "metadata": {},
   "outputs": [],
   "source": []
  }
 ],
 "metadata": {
  "kernelspec": {
   "display_name": "Python 3",
   "language": "python",
   "name": "python3"
  },
  "language_info": {
   "codemirror_mode": {
    "name": "ipython",
    "version": 3
   },
   "file_extension": ".py",
   "mimetype": "text/x-python",
   "name": "python",
   "nbconvert_exporter": "python",
   "pygments_lexer": "ipython3",
   "version": "3.7.4"
  }
 },
 "nbformat": 4,
 "nbformat_minor": 2
}
